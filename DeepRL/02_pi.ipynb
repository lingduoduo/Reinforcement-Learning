{
 "cells": [
  {
   "cell_type": "code",
   "execution_count": 1,
   "id": "fa0d002a",
   "metadata": {},
   "outputs": [],
   "source": [
    "import numpy as np"
   ]
  },
  {
   "cell_type": "code",
   "execution_count": 2,
   "id": "1da2dc5e",
   "metadata": {},
   "outputs": [],
   "source": [
    "def approxiate_pi(n: int):\n",
    "    # 在[-1, 1] x [-1, 1]的空间中随机取n个点。\n",
    "    x_lst = np.random.uniform(-1, 1, size=n)\n",
    "    y_lst = np.random.uniform(-1, 1, size=n)\n",
    "    # 统计距离圆心距离在1以内的点。\n",
    "    m = 0\n",
    "    for x, y in zip(x_lst, y_lst):\n",
    "        if x ** 2 + y ** 2 <= 1:\n",
    "            m += 1\n",
    "    # 近似计算圆周率。\n",
    "    pi = 4 * m / n\n",
    "    return pi"
   ]
  },
  {
   "cell_type": "code",
   "execution_count": 3,
   "id": "751c8d0b",
   "metadata": {},
   "outputs": [
    {
     "name": "stdout",
     "output_type": "stream",
     "text": [
      "100个点近似的圆周率： 3.2\n",
      "10000个点近似的圆周率： 3.1116\n",
      "1000000个点近似的圆周率： 3.14218\n"
     ]
    }
   ],
   "source": [
    "pi = approxiate_pi(100)\n",
    "print(\"100个点近似的圆周率：\", pi)\n",
    "\n",
    "pi = approxiate_pi(10000)\n",
    "print(\"10000个点近似的圆周率：\", pi)\n",
    "\n",
    "pi = approxiate_pi(1000000)\n",
    "print(\"1000000个点近似的圆周率：\", pi)"
   ]
  },
  {
   "cell_type": "code",
   "execution_count": null,
   "id": "489ad448",
   "metadata": {},
   "outputs": [],
   "source": []
  }
 ],
 "metadata": {
  "kernelspec": {
   "display_name": "Python 3 (ipykernel)",
   "language": "python",
   "name": "python3"
  },
  "language_info": {
   "codemirror_mode": {
    "name": "ipython",
    "version": 3
   },
   "file_extension": ".py",
   "mimetype": "text/x-python",
   "name": "python",
   "nbconvert_exporter": "python",
   "pygments_lexer": "ipython3",
   "version": "3.10.9"
  }
 },
 "nbformat": 4,
 "nbformat_minor": 5
}
