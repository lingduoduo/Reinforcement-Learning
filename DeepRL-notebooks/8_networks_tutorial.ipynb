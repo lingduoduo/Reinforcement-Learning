{
 "cells": [
  {
   "cell_type": "code",
   "execution_count": 1,
   "metadata": {},
   "outputs": [
    {
     "name": "stdout",
     "output_type": "stream",
     "text": [
      "Looking in indexes: https://pypi.org/simple, https://artifactory.spotify.net/artifactory/api/pypi/pypi/simple/\n",
      "Requirement already up-to-date: tensorflow_probability in /Users/lingh/.pyenv/versions/3.7.0/envs/my-virtual-env-3.7.0/lib/python3.7/site-packages (0.9.0)\n",
      "Requirement already satisfied, skipping upgrade: gast>=0.2 in /Users/lingh/.pyenv/versions/3.7.0/envs/my-virtual-env-3.7.0/lib/python3.7/site-packages (from tensorflow_probability) (0.3.3)\n",
      "Requirement already satisfied, skipping upgrade: decorator in /Users/lingh/.pyenv/versions/3.7.0/envs/my-virtual-env-3.7.0/lib/python3.7/site-packages (from tensorflow_probability) (4.4.1)\n",
      "Requirement already satisfied, skipping upgrade: numpy>=1.13.3 in /Users/lingh/.pyenv/versions/3.7.0/envs/my-virtual-env-3.7.0/lib/python3.7/site-packages (from tensorflow_probability) (1.18.1)\n",
      "Requirement already satisfied, skipping upgrade: six>=1.10.0 in /Users/lingh/.pyenv/versions/3.7.0/envs/my-virtual-env-3.7.0/lib/python3.7/site-packages (from tensorflow_probability) (1.14.0)\n",
      "Requirement already satisfied, skipping upgrade: cloudpickle>=1.2.2 in /Users/lingh/.pyenv/versions/3.7.0/envs/my-virtual-env-3.7.0/lib/python3.7/site-packages (from tensorflow_probability) (1.2.2)\n",
      "Looking in indexes: https://pypi.org/simple, https://artifactory.spotify.net/artifactory/api/pypi/pypi/simple/\n",
      "Requirement already satisfied: tf-agents in /Users/lingh/.pyenv/versions/3.7.0/envs/my-virtual-env-3.7.0/lib/python3.7/site-packages (0.3.0)\n",
      "Requirement already satisfied: numpy>=1.13.3 in /Users/lingh/.pyenv/versions/3.7.0/envs/my-virtual-env-3.7.0/lib/python3.7/site-packages (from tf-agents) (1.18.1)\n",
      "Requirement already satisfied: six>=1.10.0 in /Users/lingh/.pyenv/versions/3.7.0/envs/my-virtual-env-3.7.0/lib/python3.7/site-packages (from tf-agents) (1.14.0)\n",
      "Requirement already satisfied: tensorflow-probability>=0.6.0 in /Users/lingh/.pyenv/versions/3.7.0/envs/my-virtual-env-3.7.0/lib/python3.7/site-packages (from tf-agents) (0.9.0)\n",
      "Requirement already satisfied: absl-py>=0.6.1 in /Users/lingh/.pyenv/versions/3.7.0/envs/my-virtual-env-3.7.0/lib/python3.7/site-packages (from tf-agents) (0.9.0)\n",
      "Requirement already satisfied: gin-config==0.1.3 in /Users/lingh/.pyenv/versions/3.7.0/envs/my-virtual-env-3.7.0/lib/python3.7/site-packages (from tf-agents) (0.1.3)\n",
      "Requirement already satisfied: decorator in /Users/lingh/.pyenv/versions/3.7.0/envs/my-virtual-env-3.7.0/lib/python3.7/site-packages (from tensorflow-probability>=0.6.0->tf-agents) (4.4.1)\n",
      "Requirement already satisfied: cloudpickle>=1.2.2 in /Users/lingh/.pyenv/versions/3.7.0/envs/my-virtual-env-3.7.0/lib/python3.7/site-packages (from tensorflow-probability>=0.6.0->tf-agents) (1.2.2)\n",
      "Requirement already satisfied: gast>=0.2 in /Users/lingh/.pyenv/versions/3.7.0/envs/my-virtual-env-3.7.0/lib/python3.7/site-packages (from tensorflow-probability>=0.6.0->tf-agents) (0.3.3)\n"
     ]
    }
   ],
   "source": [
    "try:\n",
    "    %tensorflow_version 2.x\n",
    "except:\n",
    "    pass\n",
    "!pip install --upgrade tensorflow_probability\n",
    "!pip install tf-agents"
   ]
  },
  {
   "cell_type": "code",
   "execution_count": 2,
   "metadata": {},
   "outputs": [],
   "source": [
    "from __future__ import absolute_import\n",
    "from __future__ import division\n",
    "from __future__ import print_function\n",
    "\n",
    "import abc\n",
    "import tensorflow as tf\n",
    "import numpy as np\n",
    "\n",
    "from tf_agents.environments import random_py_environment\n",
    "from tf_agents.environments import tf_py_environment\n",
    "from tf_agents.networks import encoding_network\n",
    "from tf_agents.networks import network\n",
    "from tf_agents.networks import utils\n",
    "from tf_agents.specs import array_spec\n",
    "from tf_agents.utils import common as common_utils\n",
    "from tf_agents.utils import nest_utils\n",
    "\n",
    "tf.compat.v1.enable_v2_behavior()"
   ]
  },
  {
   "cell_type": "markdown",
   "metadata": {},
   "source": [
    "### EncodingNetwork"
   ]
  },
  {
   "cell_type": "markdown",
   "metadata": {},
   "source": [
    "The EncodingNetwork is composed of the following mostly optional layers:\n",
    "\n",
    "- Preprocessing layers\n",
    "- Preprocessing combiner\n",
    "- Conv2D\n",
    "- Flatten\n",
    "- Dense"
   ]
  },
  {
   "cell_type": "code",
   "execution_count": 8,
   "metadata": {},
   "outputs": [],
   "source": [
    "class ActorNetwork(network.Network):\n",
    "    \n",
    "    def __init__(self,\n",
    "               observation_spec,\n",
    "               action_spec,\n",
    "               preprocessing_layers=None,\n",
    "               preprocessing_combiner=None,\n",
    "               conv_layer_params=None,\n",
    "               fc_layer_params=(75, 40),\n",
    "               dropout_layer_params=None,\n",
    "               activation_fn=tf.keras.activations.relu,\n",
    "               enable_last_layer_zero_initializer=False,\n",
    "               name='ActorNetwork'):\n",
    "        super(ActorNetwork, self).__init__(\n",
    "            input_tensor_spec=observation_spec, state_spec=(), name=name)\n",
    "        \n",
    "        # For simplicity we will only support a single action float output.\n",
    "        self._action_spec = action_spec\n",
    "        flat_action_spec = tf.nest.flatten(action_spec)\n",
    "        if len(flat_action_spec) > 1:\n",
    "            raise ValueError('Only a single action is supported by this network')\n",
    "        self._single_action_spec = flat_action_spec[0]\n",
    "        if self._single_action_spec.dtype not in [tf.float32, tf.float64]:\n",
    "            raise ValueError('Only float actions are supported by this network.')\n",
    "\n",
    "        kernel_initializer = tf.keras.initializers.VarianceScaling(\n",
    "            scale=1. / 3., mode='fan_in', distribution='uniform')\n",
    "        self._encoder = encoding_network.EncodingNetwork(\n",
    "            observation_spec,\n",
    "            preprocessing_layers=preprocessing_layers,\n",
    "            preprocessing_combiner=preprocessing_combiner,\n",
    "            conv_layer_params=conv_layer_params,\n",
    "            fc_layer_params=fc_layer_params,\n",
    "            dropout_layer_params=dropout_layer_params,\n",
    "            activation_fn=activation_fn,\n",
    "            kernel_initializer=kernel_initializer,\n",
    "            batch_squash=False)\n",
    "\n",
    "        initializer = tf.keras.initializers.RandomUniform(\n",
    "            minval=-0.003, maxval=0.003)\n",
    "\n",
    "        self._action_projection_layer = tf.keras.layers.Dense(\n",
    "            flat_action_spec[0].shape.num_elements(),\n",
    "            activation=tf.keras.activations.tanh,\n",
    "            kernel_initializer=initializer,\n",
    "            name='action')\n",
    "\n",
    "    def call(self, observations, step_type=(), network_state=()):\n",
    "        outer_rank = nest_utils.get_outer_rank(observations, self.input_tensor_spec)\n",
    "        # We use batch_squash here in case the observations have a time sequence\n",
    "        # compoment.\n",
    "        batch_squash = utils.BatchSquash(outer_rank)\n",
    "        observations = tf.nest.map_structure(batch_squash.flatten, observations)\n",
    "\n",
    "        state, network_state = self._encoder(\n",
    "            observations, step_type=step_type, network_state=network_state)\n",
    "        actions = self._action_projection_layer(state)\n",
    "        actions = common_utils.scale_to_spec(actions, self._single_action_spec)\n",
    "        actions = batch_squash.unflatten(actions)\n",
    "        return tf.nest.pack_sequence_as(self._action_spec, [actions]), network_state"
   ]
  },
  {
   "cell_type": "code",
   "execution_count": 9,
   "metadata": {},
   "outputs": [],
   "source": [
    "action_spec = array_spec.BoundedArraySpec((3,), np.float32, minimum=0, maximum=10)\n",
    "observation_spec =  {\n",
    "    'image': array_spec.BoundedArraySpec((16, 16, 3), np.float32, minimum=0,\n",
    "                                        maximum=255),\n",
    "    'vector': array_spec.BoundedArraySpec((5,), np.float32, minimum=-100,\n",
    "                                          maximum=100)}\n",
    "\n",
    "random_env = random_py_environment.RandomPyEnvironment(observation_spec, action_spec=action_spec)\n",
    "\n",
    "# Convert the environment to a TFEnv to generate tensors.\n",
    "tf_env = tf_py_environment.TFPyEnvironment(random_env)"
   ]
  },
  {
   "cell_type": "code",
   "execution_count": 10,
   "metadata": {},
   "outputs": [],
   "source": [
    "preprocessing_layers = {\n",
    "    'image': tf.keras.models.Sequential([tf.keras.layers.Conv2D(8, 4),\n",
    "                                        tf.keras.layers.Flatten()]),\n",
    "    'vector': tf.keras.layers.Dense(5)\n",
    "    }\n",
    "preprocessing_combiner = tf.keras.layers.Concatenate(axis=-1)\n",
    "actor = ActorNetwork(tf_env.observation_spec(), \n",
    "                     tf_env.action_spec(),\n",
    "                     preprocessing_layers=preprocessing_layers,\n",
    "                     preprocessing_combiner=preprocessing_combiner)"
   ]
  },
  {
   "cell_type": "code",
   "execution_count": 11,
   "metadata": {},
   "outputs": [
    {
     "data": {
      "text/plain": [
       "(<tf.Tensor: shape=(1, 3), dtype=float32, numpy=array([[6.1655045, 5.3546743, 5.1867757]], dtype=float32)>,\n",
       " ())"
      ]
     },
     "execution_count": 11,
     "metadata": {},
     "output_type": "execute_result"
    }
   ],
   "source": [
    "time_step = tf_env.reset()\n",
    "actor(time_step.observation, time_step.step_type)"
   ]
  },
  {
   "cell_type": "code",
   "execution_count": null,
   "metadata": {},
   "outputs": [],
   "source": []
  }
 ],
 "metadata": {
  "kernelspec": {
   "display_name": "Python 3",
   "language": "python",
   "name": "python3"
  },
  "language_info": {
   "codemirror_mode": {
    "name": "ipython",
    "version": 3
   },
   "file_extension": ".py",
   "mimetype": "text/x-python",
   "name": "python",
   "nbconvert_exporter": "python",
   "pygments_lexer": "ipython3",
   "version": "3.7.0"
  }
 },
 "nbformat": 4,
 "nbformat_minor": 2
}
